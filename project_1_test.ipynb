{
 "cells": [
  {
   "cell_type": "code",
   "execution_count": null,
   "id": "0275aad7-335d-445b-bf79-dae105e4ff86",
   "metadata": {},
   "outputs": [
    {
     "name": "stdout",
     "output_type": "stream",
     "text": [
      "Index(['FEDFUNDS'], dtype='object')\n"
     ]
    },
    {
     "name": "stderr",
     "output_type": "stream",
     "text": [
      "C:\\Users\\dazzi\\anaconda3\\Lib\\site-packages\\openpyxl\\styles\\stylesheet.py:226: UserWarning: Workbook contains no default style, apply openpyxl's default\n",
      "  warn(\"Workbook contains no default style, apply openpyxl's default\")\n"
     ]
    }
   ],
   "source": [
    "import pandas as pd\n",
    "import matplotlib.pyplot as plt\n",
    "import numpy as np\n",
    "%matplotlib inline\n",
    "# Load CPI dataset into a DataFrame\n",
    "cpi_df = pd.read_csv('CPI_SeriesReport-20240506224144_c4a067_csv.csv')\n",
    "\n",
    "# Load interest rate dataset into a DataFrame\n",
    "#interest_rate_df = pd.read_csv('FEDFUNDS (interest rate 2014).csv')\n",
    "interest_rate_df = pd.read_csv('FEDFUNDS (interest rate 2014).csv',\n",
    "                 index_col=\"DATE\",\n",
    "                 parse_dates=True\n",
    "                )\n",
    "print(interest_rate_df.columns)"
   ]
  },
  {
   "cell_type": "code",
   "execution_count": 2,
   "id": "01fdd815-98ef-42a6-94b8-b60e6b9cc0e7",
   "metadata": {},
   "outputs": [
    {
     "name": "stdout",
     "output_type": "stream",
     "text": [
      "interest_rate_df\n",
      "            FEDFUNDS\n",
      "DATE                \n",
      "2014-09-01      0.09\n",
      "2014-10-01      0.09\n",
      "2014-11-01      0.09\n",
      "2014-12-01      0.12\n",
      "2015-01-01      0.11\n",
      "            FEDFUNDS\n",
      "DATE                \n",
      "2023-12-01      5.33\n",
      "2024-01-01      5.33\n",
      "2024-02-01      5.33\n",
      "2024-03-01      5.33\n",
      "2024-04-01      5.33\n"
     ]
    }
   ],
   "source": [
    "print(\"interest_rate_df\")\n",
    "print(interest_rate_df.head())\n",
    "print(interest_rate_df.tail())"
   ]
  },
  {
   "cell_type": "code",
   "execution_count": 3,
   "id": "0758cddb-e04d-433a-8fd9-55e3537780d2",
   "metadata": {},
   "outputs": [
    {
     "name": "stdout",
     "output_type": "stream",
     "text": [
      "Index(['DATE', 'FEDFUNDS'], dtype='object')\n"
     ]
    }
   ],
   "source": [
    "# Check column names\n",
    "print(interest_rate_df.columns)"
   ]
  },
  {
   "cell_type": "code",
   "execution_count": 4,
   "id": "87d48414-f6cd-4274-a1db-bf86f2813da8",
   "metadata": {},
   "outputs": [
    {
     "name": "stdout",
     "output_type": "stream",
     "text": [
      "DATE        datetime64[ns]\n",
      "FEDFUNDS            object\n",
      "dtype: object\n"
     ]
    }
   ],
   "source": [
    "print(interest_rate_df.dtypes)"
   ]
  },
  {
   "cell_type": "code",
   "execution_count": 6,
   "id": "8cb3d377-4143-4c9b-b520-b1998e72cdb3",
   "metadata": {},
   "outputs": [
    {
     "data": {
      "text/plain": [
       "<Axes: >"
      ]
     },
     "execution_count": 6,
     "metadata": {},
     "output_type": "execute_result"
    },
    {
     "data": {
      "image/png": "[encoded data removed]",
      "text/plain": [
       "<Figure size 640x480 with 1 Axes>"
      ]
     },
     "metadata": {},
     "output_type": "display_data"
    }
   ],
   "source": [
    "interest_rate_df.plot()"
   ]
  },
  {
   "cell_type": "code",
   "execution_count": 7,
   "id": "f037b947-c1e9-404f-a168-5bd6545b7500",
   "metadata": {},
   "outputs": [
    {
     "name": "stdout",
     "output_type": "stream",
     "text": [
      "cpi_df\n",
      "  Chained Consumer Price Index for All Urban Consumers (C-CPI-U): U.S. city average  \\\n",
      "0                                Original Data Value                                  \n",
      "1                                                NaN                                  \n",
      "2                                         Series Id:                                  \n",
      "3                            Not Seasonally Adjusted                                  \n",
      "4                                      Series Title:                                  \n",
      "\n",
      "                                          Unnamed: 1 Unnamed: 2 Unnamed: 3  \\\n",
      "0                                                NaN        NaN        NaN   \n",
      "1                                                NaN        NaN        NaN   \n",
      "2                                        SUUR0000SA0        NaN        NaN   \n",
      "3                                                NaN        NaN        NaN   \n",
      "4  All items in U.S. city average, all urban cons...        NaN        NaN   \n",
      "\n",
      "  Unnamed: 4 Unnamed: 5 Unnamed: 6 Unnamed: 7 Unnamed: 8 Unnamed: 9  \\\n",
      "0        NaN        NaN        NaN        NaN        NaN        NaN   \n",
      "1        NaN        NaN        NaN        NaN        NaN        NaN   \n",
      "2        NaN        NaN        NaN        NaN        NaN        NaN   \n",
      "3        NaN        NaN        NaN        NaN        NaN        NaN   \n",
      "4        NaN        NaN        NaN        NaN        NaN        NaN   \n",
      "\n",
      "  Unnamed: 10 Unnamed: 11 Unnamed: 12  \n",
      "0         NaN         NaN         NaN  \n",
      "1         NaN         NaN         NaN  \n",
      "2         NaN         NaN         NaN  \n",
      "3         NaN         NaN         NaN  \n",
      "4         NaN         NaN         NaN  \n",
      "   Chained Consumer Price Index for All Urban Consumers (C-CPI-U): U.S. city average  \\\n",
      "17                                               2020                                  \n",
      "18                                               2021                                  \n",
      "19                                               2022                                  \n",
      "20                                               2023                                  \n",
      "21                                               2024                                  \n",
      "\n",
      "   Unnamed: 1 Unnamed: 2 Unnamed: 3 Unnamed: 4 Unnamed: 5 Unnamed: 6  \\\n",
      "17    144.813    145.193    144.913    144.142    144.018    144.847   \n",
      "18    147.125    147.845    148.746    149.903    151.022    152.295   \n",
      "19    157.178    158.617    160.835    161.787    163.615    165.553   \n",
      "20    167.267    168.069    168.501    169.332    169.738    170.279   \n",
      "21     171.91    173.018    174.163        NaN        NaN        NaN   \n",
      "\n",
      "   Unnamed: 7 Unnamed: 8 Unnamed: 9 Unnamed: 10 Unnamed: 11 Unnamed: 12  \n",
      "17    145.747     146.27    146.417     146.382     146.242     146.408  \n",
      "18    153.076    153.301    153.734     154.884     155.538     155.926  \n",
      "19    165.495    165.389    165.845     166.609     166.498     165.974  \n",
      "20    170.541    171.291    171.677     171.595     171.219     171.015  \n",
      "21        NaN        NaN        NaN         NaN         NaN         NaN  \n"
     ]
    }
   ],
   "source": [
    "print(\"cpi_df\")\n",
    "print(cpi_df.head())\n",
    "print(cpi_df.tail())"
   ]
  },
  {
   "cell_type": "code",
   "execution_count": null,
   "id": "9c98a5b4-d52f-4db6-a687-31a4fda2a685",
   "metadata": {},
   "outputs": [],
   "source": [
    "# Getting ird of the NaN values\n",
    "cpi_df = cpi_df.dropna()\n",
    "\n",
    "# Printing the DataFrame after dropping NaN values\n",
    "print(cpi_df.head())\n",
    "print(cpi_df.tail())\n"
   ]
  },
  {
   "cell_type": "code",
   "execution_count": null,
   "id": "a4adc789",
   "metadata": {},
   "outputs": [],
   "source": [
    "print(cpi_df.columns)"
   ]
  },
  {
   "cell_type": "code",
   "execution_count": null,
   "id": "d86132e7",
   "metadata": {},
   "outputs": [],
   "source": [
    "# Read the csv file with the header row\n",
    "cpi_df = pd.read_csv('CPI_SeriesReport-20240506224144_c4a067_csv.csv', header=11)\n",
    "\n",
    "# Check the column names of the DataFrame\n",
    "print(cpi_df.columns)\n",
    "\n",
    "cpi_df.head()"
   ]
  },
  {
   "cell_type": "code",
   "execution_count": null,
   "id": "5d65e0e7",
   "metadata": {},
   "outputs": [],
   "source": [
    "#Cleaning up the data frame by melting years and months together. Which will allow us have less rows when we send it to prophet.\n",
    "df_long = pd.melt(cpi_df, id_vars='Year',value_vars=['Jan','Feb','Mar','Apr','May','Jun','Jul','Aug','Sep','Oct','Nov','Dec'],var_name='Month', value_name='Value')"
   ]
  },
  {
   "cell_type": "code",
   "execution_count": null,
   "id": "4ad140bc",
   "metadata": {},
   "outputs": [],
   "source": [
    "df_long"
   ]
  },
  {
   "cell_type": "code",
   "execution_count": null,
   "id": "de8a3a81",
   "metadata": {},
   "outputs": [],
   "source": [
    "# Concatenate 'Year' and 'Month' columns. Also need to turn them to a string series.\n",
    "df_long['Date'] = pd.to_datetime(df_long['Year'].astype(str) + '-' + df_long['Month'], format='%Y-%b')\n",
    "\n",
    "# Dropping the 'Year' and 'Month' columns\n",
    "df_long.drop(columns=['Year', 'Month'], inplace=True)\n"
   ]
  },
  {
   "cell_type": "code",
   "execution_count": null,
   "id": "b4264867",
   "metadata": {},
   "outputs": [],
   "source": [
    "df_long"
   ]
  },
  {
   "cell_type": "code",
   "execution_count": null,
   "id": "8f82dcb7",
   "metadata": {},
   "outputs": [],
   "source": [
    "# Sorting the values and droping the NaN values again.\n",
    "df_long = df_long.sort_values('Date').dropna()\n",
    "df_long"
   ]
  },
  {
   "cell_type": "code",
   "execution_count": null,
   "id": "a33b4056",
   "metadata": {},
   "outputs": [],
   "source": [
    "#Turing the index so that it uses date. Again so we can use it with prophet\n",
    "df_long = df_long.set_index('Date')\n",
    "df_long"
   ]
  },
  {
   "cell_type": "code",
   "execution_count": null,
   "id": "f1efef9a",
   "metadata": {},
   "outputs": [],
   "source": [
    "df_long.plot()"
   ]
  }
 ],
 "metadata": {
  "kernelspec": {
   "display_name": "Python 3 (ipykernel)",
   "language": "python",
   "name": "python3"
  },
  "language_info": {
   "codemirror_mode": {
    "name": "ipython",
    "version": 3
   },
   "file_extension": ".py",
   "mimetype": "text/x-python",
   "name": "python",
   "nbconvert_exporter": "python",
   "pygments_lexer": "ipython3",
   "version": "3.11.7"
  }
 },
 "nbformat": 4,
 "nbformat_minor": 5
}
