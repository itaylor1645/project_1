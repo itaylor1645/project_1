{
 "cells": [
  {
   "cell_type": "code",
   "execution_count": 1,
   "metadata": {},
   "outputs": [],
   "source": [
    "import pandas as pd"
   ]
  },
  {
   "cell_type": "markdown",
   "metadata": {},
   "source": [
    "Load data, inspect types & range, and sample the head"
   ]
  },
  {
   "cell_type": "code",
   "execution_count": 2,
   "metadata": {},
   "outputs": [
    {
     "name": "stdout",
     "output_type": "stream",
     "text": [
      "<class 'pandas.core.frame.DataFrame'>\n",
      "RangeIndex: 2324 entries, 0 to 2323\n",
      "Data columns (total 6 columns):\n",
      " #   Column  Non-Null Count  Dtype         \n",
      "---  ------  --------------  -----         \n",
      " 0   date    2324 non-null   datetime64[ns]\n",
      " 1   open    2324 non-null   float64       \n",
      " 2   high    2324 non-null   float64       \n",
      " 3   low     2324 non-null   float64       \n",
      " 4   close   2324 non-null   float64       \n",
      " 5   volume  2324 non-null   int64         \n",
      "dtypes: datetime64[ns](1), float64(4), int64(1)\n",
      "memory usage: 109.1 KB\n"
     ]
    }
   ],
   "source": [
    "gold_futures_df = pd.read_csv(\"Resources/Gold_Futures.csv\", parse_dates=[\"date\"])\n",
    "\n",
    "gold_futures_df.info()"
   ]
  },
  {
   "cell_type": "code",
   "execution_count": 3,
   "metadata": {},
   "outputs": [
    {
     "data": {
      "text/html": [
       "<div>\n",
       "<style scoped>\n",
       "    .dataframe tbody tr th:only-of-type {\n",
       "        vertical-align: middle;\n",
       "    }\n",
       "\n",
       "    .dataframe tbody tr th {\n",
       "        vertical-align: top;\n",
       "    }\n",
       "\n",
       "    .dataframe thead th {\n",
       "        text-align: right;\n",
       "    }\n",
       "</style>\n",
       "<table border=\"1\" class=\"dataframe\">\n",
       "  <thead>\n",
       "    <tr style=\"text-align: right;\">\n",
       "      <th></th>\n",
       "      <th>date</th>\n",
       "      <th>open</th>\n",
       "      <th>high</th>\n",
       "      <th>low</th>\n",
       "      <th>close</th>\n",
       "      <th>volume</th>\n",
       "    </tr>\n",
       "  </thead>\n",
       "  <tbody>\n",
       "    <tr>\n",
       "      <th>0</th>\n",
       "      <td>2015-01-02</td>\n",
       "      <td>1184.000000</td>\n",
       "      <td>1194.500000</td>\n",
       "      <td>1169.500000</td>\n",
       "      <td>1186.000000</td>\n",
       "      <td>138</td>\n",
       "    </tr>\n",
       "    <tr>\n",
       "      <th>1</th>\n",
       "      <td>2015-01-05</td>\n",
       "      <td>1180.300049</td>\n",
       "      <td>1206.900024</td>\n",
       "      <td>1180.099976</td>\n",
       "      <td>1203.900024</td>\n",
       "      <td>470</td>\n",
       "    </tr>\n",
       "    <tr>\n",
       "      <th>2</th>\n",
       "      <td>2015-01-06</td>\n",
       "      <td>1203.500000</td>\n",
       "      <td>1220.000000</td>\n",
       "      <td>1203.500000</td>\n",
       "      <td>1219.300049</td>\n",
       "      <td>97</td>\n",
       "    </tr>\n",
       "    <tr>\n",
       "      <th>3</th>\n",
       "      <td>2015-01-07</td>\n",
       "      <td>1219.199951</td>\n",
       "      <td>1219.199951</td>\n",
       "      <td>1210.599976</td>\n",
       "      <td>1210.599976</td>\n",
       "      <td>29</td>\n",
       "    </tr>\n",
       "    <tr>\n",
       "      <th>4</th>\n",
       "      <td>2015-01-08</td>\n",
       "      <td>1207.000000</td>\n",
       "      <td>1215.699951</td>\n",
       "      <td>1206.300049</td>\n",
       "      <td>1208.400024</td>\n",
       "      <td>92</td>\n",
       "    </tr>\n",
       "  </tbody>\n",
       "</table>\n",
       "</div>"
      ],
      "text/plain": [
       "        date         open         high          low        close  volume\n",
       "0 2015-01-02  1184.000000  1194.500000  1169.500000  1186.000000     138\n",
       "1 2015-01-05  1180.300049  1206.900024  1180.099976  1203.900024     470\n",
       "2 2015-01-06  1203.500000  1220.000000  1203.500000  1219.300049      97\n",
       "3 2015-01-07  1219.199951  1219.199951  1210.599976  1210.599976      29\n",
       "4 2015-01-08  1207.000000  1215.699951  1206.300049  1208.400024      92"
      ]
     },
     "execution_count": 3,
     "metadata": {},
     "output_type": "execute_result"
    }
   ],
   "source": [
    "gold_futures_df.head()"
   ]
  },
  {
   "cell_type": "code",
   "execution_count": null,
   "metadata": {},
   "outputs": [],
   "source": []
  }
 ],
 "metadata": {
  "kernelspec": {
   "display_name": "dev",
   "language": "python",
   "name": "python3"
  },
  "language_info": {
   "codemirror_mode": {
    "name": "ipython",
    "version": 3
   },
   "file_extension": ".py",
   "mimetype": "text/x-python",
   "name": "python",
   "nbconvert_exporter": "python",
   "pygments_lexer": "ipython3",
   "version": "3.10.13"
  }
 },
 "nbformat": 4,
 "nbformat_minor": 2
}
